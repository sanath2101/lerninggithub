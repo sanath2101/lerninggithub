{
  "nbformat": 4,
  "nbformat_minor": 0,
  "metadata": {
    "colab": {
      "name": "Back Propagation Algorithm",
      "provenance": [],
      "authorship_tag": "ABX9TyPmTljfE2K1hzMynmSFJnbC",
      "include_colab_link": true
    },
    "kernelspec": {
      "name": "python3",
      "display_name": "Python 3"
    },
    "language_info": {
      "name": "python"
    }
  },
  "cells": [
    {
      "cell_type": "markdown",
      "metadata": {
        "id": "view-in-github",
        "colab_type": "text"
      },
      "source": [
        "<a href=\"https://colab.research.google.com/github/sanath2101/lerninggithub/blob/main/Back_Propagation_Algorithm.ipynb\" target=\"_parent\"><img src=\"https://colab.research.google.com/assets/colab-badge.svg\" alt=\"Open In Colab\"/></a>"
      ]
    },
    {
      "cell_type": "code",
      "execution_count": 2,
      "metadata": {
        "colab": {
          "base_uri": "https://localhost:8080/",
          "height": 590
        },
        "id": "aHcvnDUSUA0p",
        "outputId": "683f9c4a-c8a8-42ff-da8e-d29f610a67bb"
      },
      "outputs": [
        {
          "output_type": "stream",
          "name": "stdout",
          "text": [
            "Initial W :  0.43837043992465796 0.861586980451974\n"
          ]
        },
        {
          "output_type": "display_data",
          "data": {
            "text/plain": [
              "<Figure size 432x288 with 1 Axes>"
            ],
            "image/png": "[encoded data removed]"
          },
          "metadata": {
            "needs_background": "light"
          }
        },
        {
          "output_type": "display_data",
          "data": {
            "text/plain": [
              "<Figure size 432x288 with 1 Axes>"
            ],
            "image/png": "[encoded data removed]"
          },
          "metadata": {
            "needs_background": "light"
          }
        }
      ],
      "source": [
        "import numpy\n",
        "import matplotlib.pyplot as plt\n",
        "def sigmoid(sop):\n",
        "    return 1.0/(1+numpy.exp(-1*sop))\n",
        "def error(predicted, target):\n",
        "    return numpy.power(predicted-target, 2)\n",
        "def error_predicted_deriv(predicted, target):\n",
        "    return 2*(predicted-target)\n",
        "def sigmoid_sop_deriv(sop):\n",
        "    return sigmoid(sop)*(1.0-sigmoid(sop))\n",
        "def sop_w_deriv(x):\n",
        "    return x\n",
        "def update_w(w, grad, learning_rate):\n",
        "    return w - learning_rate*grad\n",
        "x1=0.1\n",
        "x2=0.4\n",
        "target = 0.7\n",
        "learning_rate = 0.01\n",
        "w1=numpy.random.rand()\n",
        "w2=numpy.random.rand()\n",
        "print(\"Initial W : \", w1, w2)\n",
        "predicted_output = []\n",
        "network_error = []\n",
        "old_err = 0\n",
        "for k in range(80000):\n",
        "# Forward Pass\n",
        "  y = w1*x1 + w2*x2\n",
        "  predicted = sigmoid(y)\n",
        "  err = error(predicted, target)\n",
        "  predicted_output.append(predicted)\n",
        "  network_error.append(err)\n",
        "# Backward Pass\n",
        "g1 = error_predicted_deriv(predicted, target)\n",
        "g2 = sigmoid_sop_deriv(y)\n",
        "g3w1 = sop_w_deriv(x1)\n",
        "g3w2 = sop_w_deriv(x2)\n",
        "gradw1 = g3w1*g2*g1\n",
        "gradw2 = g3w2*g2*g1\n",
        "w1 = update_w(w1, gradw1, learning_rate)\n",
        "w2 = update_w(w2, gradw2, learning_rate)\n",
        "#print(predicted)\n",
        "plt.figure()\n",
        "plt.plot(network_error)\n",
        "plt.title(\"Iteration Number vs Error\")\n",
        "plt.xlabel(\"Iteration Number\")\n",
        "plt.ylabel(\"Error\")\n",
        "plt.show()\n",
        "plt.figure()\n",
        "plt.plot(predicted_output)\n",
        "plt.title(\"Iteration Number vs Prediction\")\n",
        "plt.xlabel(\"Iteration Number\")\n",
        "plt.ylabel(\"Prediction\")\n",
        "plt.show()"
      ]
    }
  ]
}